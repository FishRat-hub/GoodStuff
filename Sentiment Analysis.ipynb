{
 "cells": [
  {
   "cell_type": "code",
   "execution_count": 1,
   "id": "b21ef1bb-d40f-405e-842e-a4727fbc06fd",
   "metadata": {},
   "outputs": [
    {
     "name": "stdout",
     "output_type": "stream",
     "text": [
      "Epoch 1/5\n",
      "7/7 [==============================] - 10s 635ms/step - loss: 1.0977 - accuracy: 0.3609 - val_loss: 1.1022 - val_accuracy: 0.3000\n",
      "Epoch 2/5\n",
      "7/7 [==============================] - 3s 396ms/step - loss: 1.0886 - accuracy: 0.4110 - val_loss: 1.1126 - val_accuracy: 0.3000\n",
      "Epoch 3/5\n",
      "7/7 [==============================] - 3s 381ms/step - loss: 1.0831 - accuracy: 0.4261 - val_loss: 1.1220 - val_accuracy: 0.3000\n",
      "Epoch 4/5\n",
      "7/7 [==============================] - 2s 344ms/step - loss: 1.0937 - accuracy: 0.4110 - val_loss: 1.1294 - val_accuracy: 0.3000\n",
      "Epoch 5/5\n",
      "7/7 [==============================] - 2s 343ms/step - loss: 1.0826 - accuracy: 0.4236 - val_loss: 1.1241 - val_accuracy: 0.3000\n",
      "4/4 [==============================] - 0s 46ms/step - loss: 1.1241 - accuracy: 0.3000\n",
      "Model Accuracy: 0.30\n",
      "1/1 [==============================] - 1s 1s/step\n",
      "neutral\n"
     ]
    }
   ],
   "source": [
    "import numpy as np\n",
    "import pandas as pd\n",
    "import re\n",
    "from sklearn.model_selection import train_test_split\n",
    "from tensorflow.keras.models import Sequential\n",
    "from tensorflow.keras.layers import Dense, LSTM, Embedding, Dropout\n",
    "from tensorflow.keras.preprocessing.text import Tokenizer\n",
    "from tensorflow.keras.preprocessing.sequence import pad_sequences\n",
    "\n",
    "# Load Data\n",
    "df = pd.read_csv(\"sentiment_analysis.csv\")\n",
    "\n",
    "# Text Preprocessing\n",
    "def preprocess_text(text):\n",
    "    return re.sub(r'[^\\w\\s]|_\\d+', '', text.lower())\n",
    "\n",
    "df['cleaned_text'] = df['text'].apply(preprocess_text)\n",
    "\n",
    "# Tokenization and Padding\n",
    "tokenizer = Tokenizer(num_words=10000, oov_token='<OOV>')\n",
    "tokenizer.fit_on_texts(df['cleaned_text'])\n",
    "padded_sequences = pad_sequences(\n",
    "    tokenizer.texts_to_sequences(df['cleaned_text']), maxlen=200, padding='post'\n",
    ")\n",
    "\n",
    "# Encode Sentiments\n",
    "sentiment_map = {'positive': 2, 'negative': 0, 'neutral': 1}\n",
    "y = df['sentiment'].map(sentiment_map).values\n",
    "\n",
    "# Train-Test Split\n",
    "X_train, X_test, y_train, y_test = train_test_split(padded_sequences, y, test_size=0.2, random_state=42)\n",
    "\n",
    "# Model Definition\n",
    "model = Sequential([\n",
    "    Embedding(10000, 64, input_length=200),\n",
    "    LSTM(64, return_sequences=True), Dropout(0.5),\n",
    "    LSTM(64), Dense(32, activation='relu'), Dropout(0.5),\n",
    "    Dense(3, activation='softmax')\n",
    "])\n",
    "\n",
    "model.compile(loss='sparse_categorical_crossentropy', optimizer='adam', metrics=['accuracy'])\n",
    "model.fit(X_train, y_train, epochs=5, batch_size=64, validation_data=(X_test, y_test))\n",
    "loss, accuracy = model.evaluate(X_test, y_test)\n",
    "print(f\"Model Accuracy: {accuracy:.2f}\")\n",
    "\n",
    "# Predict Sentiment\n",
    "def predict_sentiment(text, model, tokenizer, maxlen=200):\n",
    "    seq = pad_sequences(tokenizer.texts_to_sequences([preprocess_text(text)]), maxlen=maxlen, padding='post')\n",
    "    sentiment_map = {0: 'negative', 1: 'neutral', 2: 'positive'}\n",
    "    return sentiment_map[np.argmax(model.predict(seq), axis=1)[0]]\n",
    "\n",
    "# Test Prediction\n",
    "print(predict_sentiment(\"feeding babies is fun\", model, tokenizer))\n"
   ]
  },
  {
   "cell_type": "code",
   "execution_count": null,
   "id": "4aecb543-2473-4601-b149-d2058aedacb6",
   "metadata": {},
   "outputs": [],
   "source": []
  }
 ],
 "metadata": {
  "kernelspec": {
   "display_name": "Python 3 (ipykernel)",
   "language": "python",
   "name": "python3"
  },
  "language_info": {
   "codemirror_mode": {
    "name": "ipython",
    "version": 3
   },
   "file_extension": ".py",
   "mimetype": "text/x-python",
   "name": "python",
   "nbconvert_exporter": "python",
   "pygments_lexer": "ipython3",
   "version": "3.11.3"
  }
 },
 "nbformat": 4,
 "nbformat_minor": 5
}
