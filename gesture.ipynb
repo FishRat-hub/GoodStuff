{
 "cells": [
  {
   "cell_type": "code",
   "execution_count": 13,
   "id": "da3c8fab-9106-4e09-99fb-abbe3414eea7",
   "metadata": {},
   "outputs": [
    {
     "name": "stdout",
     "output_type": "stream",
     "text": [
      "Epoch 1/5\n",
      "578/578 [==============================] - 3s 2ms/step - loss: 1.2962 - accuracy: 0.4161\n",
      "Epoch 2/5\n",
      "578/578 [==============================] - 1s 2ms/step - loss: 1.2165 - accuracy: 0.4629\n",
      "Epoch 3/5\n",
      "578/578 [==============================] - 1s 2ms/step - loss: 1.1949 - accuracy: 0.4707\n",
      "Epoch 4/5\n",
      "578/578 [==============================] - 1s 2ms/step - loss: 1.1803 - accuracy: 0.4858\n",
      "Epoch 5/5\n",
      "578/578 [==============================] - 1s 2ms/step - loss: 1.1675 - accuracy: 0.4897\n",
      "1/1 [==============================] - 0s 53ms/step\n",
      "Predicted Gesture: 2\n"
     ]
    },
    {
     "data": {
      "image/png": "[encoded data removed]",
      "text/plain": [
       "<Figure size 640x480 with 1 Axes>"
      ]
     },
     "metadata": {},
     "output_type": "display_data"
    }
   ],
   "source": [
    "import numpy as np\n",
    "from tensorflow.keras.models import Sequential\n",
    "from tensorflow.keras.layers import Dense, Flatten\n",
    "from tensorflow.keras.utils import to_categorical\n",
    "import matplotlib.pyplot as plt\n",
    "import cv2\n",
    "# Load the dataset\n",
    "train_gesture = np.load('gesture recog/train_gesture.npy')  # Training data\n",
    "train_gesture_label = np.load('gesture recog/train_gesture_labels.npy')  # Training labels\n",
    "validation_gesture = np.load('gesture recog/validation_gesture.npy')  # Validation data\n",
    "validation_gesture_label = np.load('gesture recog/validation_gesture_labels.npy')  # Validation labels\n",
    "\n",
    "# Normalize the data\n",
    "train_gesture = train_gesture / 255.0\n",
    "validation_gesture = validation_gesture / 255.0\n",
    "\n",
    "# One-hot encode the labels\n",
    "num_classes = len(np.unique(train_gesture_label))\n",
    "train_gesture_label = to_categorical(train_gesture_label, num_classes)\n",
    "validation_gesture_label = to_categorical(validation_gesture_label, num_classes)\n",
    "\n",
    "# Simple neural network model\n",
    "model = Sequential([\n",
    "    Flatten(input_shape=train_gesture.shape[1:]),  # Flatten input\n",
    "    Dense(64, activation='relu'),  # Hidden layer with 64 neurons\n",
    "    Dense(num_classes, activation='softmax')  # Output layer for classification\n",
    "])\n",
    "\n",
    "# Compile the model\n",
    "model.compile(optimizer='adam', loss='categorical_crossentropy', metrics=['accuracy'])\n",
    "\n",
    "# Train the model\n",
    "model.fit(train_gesture, train_gesture_label, epochs=5, batch_size=32)\n",
    "\n",
    "# Test a sample image\n",
    "def test_sample_image(sample_image_path):\n",
    "    # Load the image\n",
    "    img = plt.imread(sample_image_path)\n",
    "    \n",
    "    # Convert to grayscale if it's an RGB image\n",
    "    if len(img.shape) == 3:\n",
    "        img = np.mean(img, axis=-1)\n",
    "    \n",
    "    # Ensure the image has 2D shape for resizing\n",
    "    img = np.expand_dims(img, axis=-1) if len(img.shape) == 2 else img\n",
    "    img = img[..., 0]  # Select the first channel if it's 3D\n",
    "\n",
    "    # Resize the image to match the input shape of the model\n",
    "    img = cv2.resize(img, (48, 48))  # Using OpenCV to resize\n",
    "    \n",
    "    # Normalize the image\n",
    "    img = img / 255.0\n",
    "    \n",
    "    # Add batch and channel dimensions\n",
    "    img = np.expand_dims(img, axis=(0, -1))\n",
    "\n",
    "    # Predict gesture\n",
    "    predictions = model.predict(img)\n",
    "    predicted_class = np.argmax(predictions)\n",
    "\n",
    "    # Display the prediction and image\n",
    "    print(f\"Predicted Gesture: {predicted_class}\")\n",
    "    plt.imshow(img.squeeze(), cmap='gray')\n",
    "    plt.title(f\"Predicted: {predicted_class}\")\n",
    "    plt.axis('off')\n",
    "    plt.show()\n",
    "# sample image\n",
    "test_sample_image(\"C:/Users/SAINATH NIKAM/Desktop/CV&DL Lab/CV CODES/Final Practical Practice/gesture2.jpeg\")  # Replace with your test image path\n"
   ]
  },
  {
   "cell_type": "code",
   "execution_count": null,
   "id": "818332d9-ec21-4fea-9f56-213384848f3c",
   "metadata": {},
   "outputs": [],
   "source": []
  }
 ],
 "metadata": {
  "kernelspec": {
   "display_name": "Python 3 (ipykernel)",
   "language": "python",
   "name": "python3"
  },
  "language_info": {
   "codemirror_mode": {
    "name": "ipython",
    "version": 3
   },
   "file_extension": ".py",
   "mimetype": "text/x-python",
   "name": "python",
   "nbconvert_exporter": "python",
   "pygments_lexer": "ipython3",
   "version": "3.11.3"
  }
 },
 "nbformat": 4,
 "nbformat_minor": 5
}
